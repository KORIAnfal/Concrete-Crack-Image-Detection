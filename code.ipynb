{
 "cells": [
  {
   "cell_type": "markdown",
   "metadata": {},
   "source": [
    "# Concrete Crack Image Detection"
   ]
  },
  {
   "cell_type": "code",
   "execution_count": 1,
   "metadata": {},
   "outputs": [
    {
     "name": "stdout",
     "output_type": "stream",
     "text": [
      "WARNING:tensorflow:From c:\\Python311\\Lib\\site-packages\\keras\\src\\losses.py:2976: The name tf.losses.sparse_softmax_cross_entropy is deprecated. Please use tf.compat.v1.losses.sparse_softmax_cross_entropy instead.\n",
      "\n"
     ]
    }
   ],
   "source": [
    "import tensorflow as tf\n",
    "from tensorflow.keras.preprocessing import image_dataset_from_directory\n",
    "from tensorflow.keras.models import load_model\n",
    "import numpy as np\n",
    "from tensorflow.keras import layers, models"
   ]
  },
  {
   "cell_type": "code",
   "execution_count": 2,
   "metadata": {},
   "outputs": [
    {
     "name": "stdout",
     "output_type": "stream",
     "text": [
      "Found 40000 files belonging to 2 classes.\n",
      "Using 32000 files for training.\n",
      "Found 40000 files belonging to 2 classes.\n",
      "Using 8000 files for validation.\n"
     ]
    }
   ],
   "source": [
    "# Create and split the dataset\n",
    "train_dataset = image_dataset_from_directory(\n",
    "    \"data\",\n",
    "    validation_split=0.2,\n",
    "    subset=\"training\",\n",
    "    seed=123,\n",
    "    image_size=(224, 224),\n",
    "    batch_size=32\n",
    ")\n",
    "\n",
    "validation_dataset = image_dataset_from_directory(\n",
    "    \"data\",\n",
    "    validation_split=0.2,\n",
    "    subset=\"validation\",\n",
    "    seed=123,\n",
    "    image_size=(224, 224),\n",
    "    batch_size=32\n",
    ")"
   ]
  },
  {
   "cell_type": "markdown",
   "metadata": {},
   "source": [
    "## Train the Model"
   ]
  },
  {
   "cell_type": "markdown",
   "metadata": {},
   "source": [
    "### Using MobileNetV2"
   ]
  },
  {
   "cell_type": "code",
   "execution_count": 8,
   "metadata": {},
   "outputs": [
    {
     "name": "stdout",
     "output_type": "stream",
     "text": [
      "WARNING:tensorflow:From c:\\Python311\\Lib\\site-packages\\keras\\src\\backend.py:1398: The name tf.executing_eagerly_outside_functions is deprecated. Please use tf.compat.v1.executing_eagerly_outside_functions instead.\n",
      "\n",
      "WARNING:tensorflow:From c:\\Python311\\Lib\\site-packages\\keras\\src\\layers\\normalization\\batch_normalization.py:979: The name tf.nn.fused_batch_norm is deprecated. Please use tf.compat.v1.nn.fused_batch_norm instead.\n",
      "\n",
      "Downloading data from https://storage.googleapis.com/tensorflow/keras-applications/mobilenet_v2/mobilenet_v2_weights_tf_dim_ordering_tf_kernels_1.0_224_no_top.h5\n",
      "9406464/9406464 [==============================] - 22s 2us/step\n"
     ]
    }
   ],
   "source": [
    "base_model = tf.keras.applications.MobileNetV2(input_shape=(224, 224, 3),\n",
    "                                               include_top=False,\n",
    "                                               weights='imagenet')\n",
    "\n",
    "base_model.trainable = False  # Freeze the base model"
   ]
  },
  {
   "cell_type": "code",
   "execution_count": 11,
   "metadata": {},
   "outputs": [],
   "source": [
    "model = tf.keras.Sequential([\n",
    "    tf.keras.layers.Rescaling(1./255),\n",
    "    base_model,\n",
    "    tf.keras.layers.GlobalAveragePooling2D(),\n",
    "    tf.keras.layers.Dropout(0.2),\n",
    "    tf.keras.layers.Dense(1, activation='sigmoid')\n",
    "])"
   ]
  },
  {
   "cell_type": "code",
   "execution_count": 12,
   "metadata": {},
   "outputs": [
    {
     "name": "stdout",
     "output_type": "stream",
     "text": [
      "WARNING:tensorflow:From c:\\Python311\\Lib\\site-packages\\keras\\src\\optimizers\\__init__.py:309: The name tf.train.Optimizer is deprecated. Please use tf.compat.v1.train.Optimizer instead.\n",
      "\n"
     ]
    }
   ],
   "source": [
    "# 3. Model Compilation\n",
    "model.compile(optimizer='adam',\n",
    "              loss='binary_crossentropy',\n",
    "              metrics=['accuracy'])"
   ]
  },
  {
   "cell_type": "code",
   "execution_count": 14,
   "metadata": {},
   "outputs": [
    {
     "name": "stdout",
     "output_type": "stream",
     "text": [
      "Epoch 1/5\n"
     ]
    },
    {
     "name": "stdout",
     "output_type": "stream",
     "text": [
      "1000/1000 [==============================] - 339s 339ms/step - loss: 0.0089 - accuracy: 0.9973 - val_loss: 0.0079 - val_accuracy: 0.9977\n",
      "Epoch 2/5\n",
      "1000/1000 [==============================] - 330s 330ms/step - loss: 0.0076 - accuracy: 0.9975 - val_loss: 0.0066 - val_accuracy: 0.9979\n",
      "Epoch 3/5\n",
      "1000/1000 [==============================] - 347s 347ms/step - loss: 0.0061 - accuracy: 0.9979 - val_loss: 0.0065 - val_accuracy: 0.9975\n",
      "Epoch 4/5\n",
      "1000/1000 [==============================] - 389s 389ms/step - loss: 0.0055 - accuracy: 0.9982 - val_loss: 0.0060 - val_accuracy: 0.9979\n",
      "Epoch 5/5\n",
      "1000/1000 [==============================] - 417s 416ms/step - loss: 0.0049 - accuracy: 0.9983 - val_loss: 0.0057 - val_accuracy: 0.9981\n"
     ]
    }
   ],
   "source": [
    "# 4. Model Training\n",
    "epochs = 5\n",
    "history = model.fit(train_dataset,\n",
    "                    validation_data=validation_dataset,\n",
    "                    epochs=epochs)"
   ]
  },
  {
   "cell_type": "code",
   "execution_count": 15,
   "metadata": {},
   "outputs": [
    {
     "name": "stdout",
     "output_type": "stream",
     "text": [
      "250/250 [==============================] - 78s 312ms/step - loss: 0.0057 - accuracy: 0.9981\n",
      "Validation Accuracy: 99.81%\n"
     ]
    }
   ],
   "source": [
    "# 5. Model Evaluation\n",
    "loss, accuracy = model.evaluate(validation_dataset)\n",
    "print(f\"Validation Accuracy: {accuracy*100:.2f}%\")"
   ]
  },
  {
   "cell_type": "markdown",
   "metadata": {},
   "source": [
    "### Using Custom CNN model"
   ]
  },
  {
   "cell_type": "code",
   "execution_count": 3,
   "metadata": {},
   "outputs": [
    {
     "name": "stdout",
     "output_type": "stream",
     "text": [
      "WARNING:tensorflow:From c:\\Python311\\Lib\\site-packages\\keras\\src\\backend.py:873: The name tf.get_default_graph is deprecated. Please use tf.compat.v1.get_default_graph instead.\n",
      "\n",
      "WARNING:tensorflow:From c:\\Python311\\Lib\\site-packages\\keras\\src\\layers\\pooling\\max_pooling2d.py:161: The name tf.nn.max_pool is deprecated. Please use tf.nn.max_pool2d instead.\n",
      "\n"
     ]
    }
   ],
   "source": [
    "model2 = models.Sequential([\n",
    "    layers.Conv2D(32, (3, 3), activation='relu', input_shape=(224, 224, 3)),\n",
    "    layers.MaxPooling2D((2, 2)),\n",
    "    layers.Conv2D(64, (3, 3), activation='relu'),\n",
    "    layers.MaxPooling2D((2, 2)),\n",
    "    layers.Conv2D(128, (3, 3), activation='relu'),\n",
    "    layers.MaxPooling2D((2, 2)),\n",
    "    layers.Conv2D(128, (3, 3), activation='relu'),\n",
    "    layers.MaxPooling2D((2, 2)),\n",
    "    layers.Flatten(),\n",
    "    layers.Dense(512, activation='relu'),\n",
    "    layers.Dense(1, activation='sigmoid')  # Use 'softmax' for multi-class classification\n",
    "])"
   ]
  },
  {
   "cell_type": "code",
   "execution_count": 4,
   "metadata": {},
   "outputs": [
    {
     "name": "stdout",
     "output_type": "stream",
     "text": [
      "WARNING:tensorflow:From c:\\Python311\\Lib\\site-packages\\keras\\src\\optimizers\\__init__.py:309: The name tf.train.Optimizer is deprecated. Please use tf.compat.v1.train.Optimizer instead.\n",
      "\n"
     ]
    }
   ],
   "source": [
    "model2.compile(optimizer='adam',\n",
    "              loss='binary_crossentropy',  # Use 'categorical_crossentropy' for multi-class classification\n",
    "              metrics=['accuracy'])"
   ]
  },
  {
   "cell_type": "code",
   "execution_count": 5,
   "metadata": {},
   "outputs": [
    {
     "name": "stdout",
     "output_type": "stream",
     "text": [
      "Epoch 1/5\n",
      "WARNING:tensorflow:From c:\\Python311\\Lib\\site-packages\\keras\\src\\utils\\tf_utils.py:492: The name tf.ragged.RaggedTensorValue is deprecated. Please use tf.compat.v1.ragged.RaggedTensorValue instead.\n",
      "\n",
      "WARNING:tensorflow:From c:\\Python311\\Lib\\site-packages\\keras\\src\\engine\\base_layer_utils.py:384: The name tf.executing_eagerly_outside_functions is deprecated. Please use tf.compat.v1.executing_eagerly_outside_functions instead.\n",
      "\n",
      "1000/1000 [==============================] - 1044s 1s/step - loss: 2.4565 - accuracy: 0.5311 - val_loss: 0.6930 - val_accuracy: 0.5100\n",
      "Epoch 2/5\n",
      "1000/1000 [==============================] - 1655s 2s/step - loss: 0.6932 - accuracy: 0.5023 - val_loss: 0.6930 - val_accuracy: 0.5100\n",
      "Epoch 3/5\n",
      "1000/1000 [==============================] - 686s 686ms/step - loss: 0.7836 - accuracy: 0.5073 - val_loss: 0.6930 - val_accuracy: 0.5100\n",
      "Epoch 4/5\n",
      "1000/1000 [==============================] - 678s 677ms/step - loss: 0.6932 - accuracy: 0.5008 - val_loss: 0.6931 - val_accuracy: 0.5100\n",
      "Epoch 5/5\n",
      "1000/1000 [==============================] - 668s 668ms/step - loss: 0.6932 - accuracy: 0.5009 - val_loss: 0.6931 - val_accuracy: 0.5100\n"
     ]
    }
   ],
   "source": [
    "history = model2.fit(\n",
    "    train_dataset,\n",
    "    epochs=5,  \n",
    "    validation_data=validation_dataset\n",
    ")"
   ]
  },
  {
   "cell_type": "code",
   "execution_count": 6,
   "metadata": {},
   "outputs": [
    {
     "name": "stdout",
     "output_type": "stream",
     "text": [
      "250/250 [==============================] - 50s 197ms/step - loss: 0.6931 - accuracy: 0.5100\n",
      "Validation Accuracy: 51.00%\n"
     ]
    }
   ],
   "source": [
    "# 5. Model Evaluation\n",
    "loss2, accuracy2 = model2.evaluate(validation_dataset)\n",
    "print(f\"Validation Accuracy: {accuracy2*100:.2f}%\")"
   ]
  },
  {
   "cell_type": "markdown",
   "metadata": {},
   "source": [
    "## Test the model"
   ]
  },
  {
   "cell_type": "code",
   "execution_count": 7,
   "metadata": {},
   "outputs": [],
   "source": [
    "img = tf.keras.utils.load_img('data/Negative/00001.jpg', target_size=(224, 224))\n",
    "img_array = tf.keras.utils.img_to_array(img)\n",
    "img_array = tf.expand_dims(img_array, 0)  # Create a batch"
   ]
  },
  {
   "cell_type": "code",
   "execution_count": 30,
   "metadata": {},
   "outputs": [
    {
     "data": {
      "image/png": "[encoded data removed]",
      "text/plain": [
       "<PIL.Image.Image image mode=RGB size=224x224>"
      ]
     },
     "execution_count": 30,
     "metadata": {},
     "output_type": "execute_result"
    }
   ],
   "source": [
    "img"
   ]
  },
  {
   "cell_type": "code",
   "execution_count": 31,
   "metadata": {},
   "outputs": [
    {
     "data": {
      "text/plain": [
       "<tf.Tensor: shape=(1, 224, 224, 3), dtype=float32, numpy=\n",
       "array([[[[178., 175., 170.],\n",
       "         [173., 170., 165.],\n",
       "         [166., 163., 158.],\n",
       "         ...,\n",
       "         [189., 186., 179.],\n",
       "         [189., 186., 179.],\n",
       "         [189., 186., 179.]],\n",
       "\n",
       "        [[176., 173., 168.],\n",
       "         [174., 171., 166.],\n",
       "         [167., 164., 159.],\n",
       "         ...,\n",
       "         [185., 182., 175.],\n",
       "         [185., 182., 175.],\n",
       "         [185., 182., 175.]],\n",
       "\n",
       "        [[177., 174., 169.],\n",
       "         [176., 173., 168.],\n",
       "         [171., 168., 163.],\n",
       "         ...,\n",
       "         [181., 178., 171.],\n",
       "         [181., 178., 171.],\n",
       "         [181., 178., 171.]],\n",
       "\n",
       "        ...,\n",
       "\n",
       "        [[163., 159., 156.],\n",
       "         [159., 155., 152.],\n",
       "         [156., 152., 149.],\n",
       "         ...,\n",
       "         [175., 171., 168.],\n",
       "         [174., 170., 167.],\n",
       "         [173., 169., 166.]],\n",
       "\n",
       "        [[165., 161., 158.],\n",
       "         [161., 157., 154.],\n",
       "         [157., 153., 150.],\n",
       "         ...,\n",
       "         [175., 171., 168.],\n",
       "         [174., 170., 167.],\n",
       "         [173., 169., 166.]],\n",
       "\n",
       "        [[168., 164., 161.],\n",
       "         [163., 159., 156.],\n",
       "         [157., 153., 150.],\n",
       "         ...,\n",
       "         [175., 171., 168.],\n",
       "         [174., 170., 167.],\n",
       "         [173., 169., 166.]]]], dtype=float32)>"
      ]
     },
     "execution_count": 31,
     "metadata": {},
     "output_type": "execute_result"
    }
   ],
   "source": [
    "img_array"
   ]
  },
  {
   "cell_type": "code",
   "execution_count": 33,
   "metadata": {},
   "outputs": [
    {
     "name": "stdout",
     "output_type": "stream",
     "text": [
      "1/1 [==============================] - 0s 54ms/step\n",
      "This image is negative.\n"
     ]
    }
   ],
   "source": [
    "predictions = model.predict(img_array)\n",
    "score = predictions[0]\n",
    "if score>0.5 :\n",
    "    print(\"This image is positive.\")\n",
    "else: \n",
    "    print(\"This image is negative.\")"
   ]
  },
  {
   "cell_type": "code",
   "execution_count": 8,
   "metadata": {},
   "outputs": [
    {
     "name": "stdout",
     "output_type": "stream",
     "text": [
      "1/1 [==============================] - 0s 242ms/step\n",
      "This image is negative.\n"
     ]
    }
   ],
   "source": [
    "predictions = model2.predict(img_array)\n",
    "score2 = predictions[0]\n",
    "if score2 >0.5 :\n",
    "    print(\"This image is positive.\")\n",
    "else: \n",
    "    print(\"This image is negative.\")"
   ]
  },
  {
   "cell_type": "code",
   "execution_count": null,
   "metadata": {},
   "outputs": [],
   "source": []
  }
 ],
 "metadata": {
  "kernelspec": {
   "display_name": "Python 3",
   "language": "python",
   "name": "python3"
  },
  "language_info": {
   "codemirror_mode": {
    "name": "ipython",
    "version": 3
   },
   "file_extension": ".py",
   "mimetype": "text/x-python",
   "name": "python",
   "nbconvert_exporter": "python",
   "pygments_lexer": "ipython3",
   "version": "3.11.4"
  }
 },
 "nbformat": 4,
 "nbformat_minor": 2
}
